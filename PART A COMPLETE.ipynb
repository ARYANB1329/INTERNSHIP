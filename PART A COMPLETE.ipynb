{
 "cells": [
  {
   "cell_type": "code",
   "execution_count": 3,
   "id": "f7ace4c1",
   "metadata": {},
   "outputs": [],
   "source": [
    "import pandas as pd\n",
    "import matplotlib.pyplot as plt\n",
    "import seaborn as sns\n",
    "import numpy as np"
   ]
  },
  {
   "cell_type": "code",
   "execution_count": 4,
   "id": "20030168",
   "metadata": {},
   "outputs": [],
   "source": [
    "df = pd.read_csv(\"fico.csv\")"
   ]
  },
  {
   "cell_type": "code",
   "execution_count": 5,
   "id": "45c056d0",
   "metadata": {},
   "outputs": [],
   "source": [
    "# Analyzing different ways of Data Cleaning, we decide to Use Method 1\n",
    "df[\"FICO\"].fillna(0, inplace=True)"
   ]
  },
  {
   "cell_type": "code",
   "execution_count": 6,
   "id": "c48d3caa",
   "metadata": {},
   "outputs": [
    {
     "data": {
      "text/plain": [
       "acct_id     int64\n",
       "FICO       object\n",
       "dtype: object"
      ]
     },
     "execution_count": 6,
     "metadata": {},
     "output_type": "execute_result"
    }
   ],
   "source": [
    "df.dtypes"
   ]
  },
  {
   "cell_type": "code",
   "execution_count": 7,
   "id": "10921394",
   "metadata": {},
   "outputs": [],
   "source": [
    "df = df[df[\"FICO\"].str.contains(\"AA\") == False]"
   ]
  },
  {
   "cell_type": "code",
   "execution_count": 8,
   "id": "662c3d8f",
   "metadata": {},
   "outputs": [],
   "source": [
    "df = df[df[\"FICO\"].str.contains(\"SSS\") == False]"
   ]
  },
  {
   "cell_type": "code",
   "execution_count": 9,
   "id": "fe630ac6",
   "metadata": {},
   "outputs": [],
   "source": [
    "df[\"FICO\"] = df[\"FICO\"].astype(float)"
   ]
  },
  {
   "cell_type": "code",
   "execution_count": 10,
   "id": "ecf4eaf4",
   "metadata": {},
   "outputs": [
    {
     "data": {
      "text/plain": [
       "acct_id      int64\n",
       "FICO       float64\n",
       "dtype: object"
      ]
     },
     "execution_count": 10,
     "metadata": {},
     "output_type": "execute_result"
    }
   ],
   "source": [
    "df.dtypes"
   ]
  },
  {
   "cell_type": "code",
   "execution_count": 28,
   "id": "8a59a7f1",
   "metadata": {},
   "outputs": [],
   "source": [
    "max_value = df[\"FICO\"].max()\n",
    "min_value = df[\"FICO\"].min()"
   ]
  },
  {
   "cell_type": "code",
   "execution_count": 12,
   "id": "7032f239",
   "metadata": {},
   "outputs": [
    {
     "data": {
      "text/plain": [
       "420.0"
      ]
     },
     "execution_count": 12,
     "metadata": {},
     "output_type": "execute_result"
    }
   ],
   "source": [
    "min_value"
   ]
  },
  {
   "cell_type": "code",
   "execution_count": 13,
   "id": "c1972189",
   "metadata": {},
   "outputs": [
    {
     "data": {
      "text/plain": [
       "850.0"
      ]
     },
     "execution_count": 13,
     "metadata": {},
     "output_type": "execute_result"
    }
   ],
   "source": [
    "max_value"
   ]
  },
  {
   "cell_type": "code",
   "execution_count": 14,
   "id": "036dbb36",
   "metadata": {},
   "outputs": [],
   "source": [
    "# I segregate FICO Scores of each customer into 5 buckets, and construct an histogram in order to identify customers with \n",
    "# good FICO Scores and analyze the number of customers with higher credits.\n",
    "# Using linspace I segregate the data into 5 buckets ranging from the minimum FICO score to the maximum FICO Score"
   ]
  },
  {
   "cell_type": "code",
   "execution_count": 15,
   "id": "77dfbfe7",
   "metadata": {},
   "outputs": [
    {
     "data": {
      "text/plain": [
       "array([420. , 527.5, 635. , 742.5, 850. ])"
      ]
     },
     "execution_count": 15,
     "metadata": {},
     "output_type": "execute_result"
    }
   ],
   "source": [
    "bins = np.linspace(min_value,max_value,5)\n",
    "bins"
   ]
  },
  {
   "cell_type": "code",
   "execution_count": 16,
   "id": "2dca93da",
   "metadata": {},
   "outputs": [
    {
     "data": {
      "text/plain": [
       "0         (742.5, 850.0]\n",
       "1         (742.5, 850.0]\n",
       "2         (635.0, 742.5]\n",
       "3         (742.5, 850.0]\n",
       "4         (742.5, 850.0]\n",
       "               ...      \n",
       "99998     (742.5, 850.0]\n",
       "99999     (742.5, 850.0]\n",
       "100001    (742.5, 850.0]\n",
       "100002    (742.5, 850.0]\n",
       "100004    (742.5, 850.0]\n",
       "Name: bins, Length: 70396, dtype: category\n",
       "Categories (4, interval[float64]): [(419.999, 527.5] < (527.5, 635.0] < (635.0, 742.5] < (742.5, 850.0]]"
      ]
     },
     "execution_count": 16,
     "metadata": {},
     "output_type": "execute_result"
    }
   ],
   "source": [
    "df['bins'] = pd.cut(df['FICO'], bins=bins, include_lowest=True)\n",
    "df['bins']"
   ]
  },
  {
   "cell_type": "code",
   "execution_count": 17,
   "id": "a580c24d",
   "metadata": {},
   "outputs": [
    {
     "data": {
      "text/plain": [
       "(764.0, 850.0]     48460\n",
       "(678.0, 764.0]     16875\n",
       "(592.0, 678.0]      4128\n",
       "(506.0, 592.0]       838\n",
       "(419.57, 506.0]       95\n",
       "Name: FICO, dtype: int64"
      ]
     },
     "execution_count": 17,
     "metadata": {},
     "output_type": "execute_result"
    }
   ],
   "source": [
    "# Count of each bin value \n",
    "# Number of customers under each segment\n",
    "x = pd.cut(df['FICO'], bins=5).value_counts()\n",
    "x"
   ]
  },
  {
   "cell_type": "code",
   "execution_count": 18,
   "id": "0c124c50",
   "metadata": {},
   "outputs": [
    {
     "data": {
      "text/plain": [
       "(array([   89.,   832.,  4016., 16734., 48725.]),\n",
       " array([420., 506., 592., 678., 764., 850.]),\n",
       " <BarContainer object of 5 artists>)"
      ]
     },
     "execution_count": 18,
     "metadata": {},
     "output_type": "execute_result"
    },
    {
     "data": {
      "image/png": "[encoded data removed]",
      "text/plain": [
       "<Figure size 432x288 with 1 Axes>"
      ]
     },
     "metadata": {
      "needs_background": "light"
     },
     "output_type": "display_data"
    }
   ],
   "source": [
    "plt.hist(df['FICO'],edgecolor = 'black', bins=5)"
   ]
  },
  {
   "cell_type": "code",
   "execution_count": 19,
   "id": "8ceef437",
   "metadata": {},
   "outputs": [],
   "source": [
    "# A FICO score is a three-digit number, typically on a 300-850 range, that tells lenders how likely a consumer is to repay \n",
    "# borrowed money based on their credit history."
   ]
  },
  {
   "cell_type": "code",
   "execution_count": 20,
   "id": "c0b689cc",
   "metadata": {},
   "outputs": [
    {
     "data": {
      "text/plain": [
       "(420, 670]    4267\n",
       "Name: FICO, dtype: int64"
      ]
     },
     "execution_count": 20,
     "metadata": {},
     "output_type": "execute_result"
    }
   ],
   "source": [
    "# From the above histogram , we observe that majority of the individuals have FICO-Score more in the range 800 or more.\n",
    "# Higher score indicates better credit, so approximately 50000 individuals have a very high FICO Score.\n",
    "# On average, The FICO company itself defines a good score as 670-739, Basing upon those results we observe that 4267 people \n",
    "# have a low FICO Score and tend to achieve lower credits than the other who have a FICO Score of more than 670.\n",
    "a = pd.cut(df['FICO'], bins=[420,670]).value_counts()\n",
    "a"
   ]
  },
  {
   "cell_type": "code",
   "execution_count": 21,
   "id": "e3b4d810",
   "metadata": {},
   "outputs": [],
   "source": [
    "# We can conclude that despite having individuals with a higher or balanced FICO Scores, there are still a number of customers \n",
    "# who are having lower Scores and tend to achieve lesser credit. But, in the real world scenario, I think that there will\n",
    "# be more number of individuals who will tend to have lower FICO Scores, but this data will be based upon region to region.\n",
    "# So the ranges will differ over different places and basing upon that we infer our conclusions."
   ]
  },
  {
   "cell_type": "code",
   "execution_count": 23,
   "id": "f301bb84",
   "metadata": {},
   "outputs": [],
   "source": [
    "df1 = pd.read_csv(\"region.csv\")"
   ]
  },
  {
   "cell_type": "code",
   "execution_count": 24,
   "id": "ee5a2a9f",
   "metadata": {},
   "outputs": [
    {
     "data": {
      "text/html": [
       "<div>\n",
       "<style scoped>\n",
       "    .dataframe tbody tr th:only-of-type {\n",
       "        vertical-align: middle;\n",
       "    }\n",
       "\n",
       "    .dataframe tbody tr th {\n",
       "        vertical-align: top;\n",
       "    }\n",
       "\n",
       "    .dataframe thead th {\n",
       "        text-align: right;\n",
       "    }\n",
       "</style>\n",
       "<table border=\"1\" class=\"dataframe\">\n",
       "  <thead>\n",
       "    <tr style=\"text-align: right;\">\n",
       "      <th></th>\n",
       "      <th>acct_id</th>\n",
       "      <th>region</th>\n",
       "    </tr>\n",
       "  </thead>\n",
       "  <tbody>\n",
       "    <tr>\n",
       "      <th>0</th>\n",
       "      <td>1</td>\n",
       "      <td>New York</td>\n",
       "    </tr>\n",
       "    <tr>\n",
       "      <th>1</th>\n",
       "      <td>2</td>\n",
       "      <td>Dallas</td>\n",
       "    </tr>\n",
       "    <tr>\n",
       "      <th>2</th>\n",
       "      <td>3</td>\n",
       "      <td>Los Angeles</td>\n",
       "    </tr>\n",
       "    <tr>\n",
       "      <th>3</th>\n",
       "      <td>4</td>\n",
       "      <td>Chicago</td>\n",
       "    </tr>\n",
       "    <tr>\n",
       "      <th>4</th>\n",
       "      <td>5</td>\n",
       "      <td>Philadelphia</td>\n",
       "    </tr>\n",
       "    <tr>\n",
       "      <th>5</th>\n",
       "      <td>6</td>\n",
       "      <td>New York</td>\n",
       "    </tr>\n",
       "    <tr>\n",
       "      <th>6</th>\n",
       "      <td>7</td>\n",
       "      <td>San Antonio</td>\n",
       "    </tr>\n",
       "    <tr>\n",
       "      <th>7</th>\n",
       "      <td>8</td>\n",
       "      <td>San Antonio</td>\n",
       "    </tr>\n",
       "    <tr>\n",
       "      <th>8</th>\n",
       "      <td>9</td>\n",
       "      <td>Houston</td>\n",
       "    </tr>\n",
       "    <tr>\n",
       "      <th>9</th>\n",
       "      <td>10</td>\n",
       "      <td>Philadelphia</td>\n",
       "    </tr>\n",
       "  </tbody>\n",
       "</table>\n",
       "</div>"
      ],
      "text/plain": [
       "   acct_id        region\n",
       "0        1      New York\n",
       "1        2        Dallas\n",
       "2        3   Los Angeles\n",
       "3        4       Chicago\n",
       "4        5  Philadelphia\n",
       "5        6      New York\n",
       "6        7   San Antonio\n",
       "7        8   San Antonio\n",
       "8        9       Houston\n",
       "9       10  Philadelphia"
      ]
     },
     "execution_count": 24,
     "metadata": {},
     "output_type": "execute_result"
    }
   ],
   "source": [
    "df1.head(10)"
   ]
  },
  {
   "cell_type": "code",
   "execution_count": 40,
   "id": "69dec6aa",
   "metadata": {},
   "outputs": [
    {
     "data": {
      "text/html": [
       "<div>\n",
       "<style scoped>\n",
       "    .dataframe tbody tr th:only-of-type {\n",
       "        vertical-align: middle;\n",
       "    }\n",
       "\n",
       "    .dataframe tbody tr th {\n",
       "        vertical-align: top;\n",
       "    }\n",
       "\n",
       "    .dataframe thead th {\n",
       "        text-align: right;\n",
       "    }\n",
       "</style>\n",
       "<table border=\"1\" class=\"dataframe\">\n",
       "  <thead>\n",
       "    <tr style=\"text-align: right;\">\n",
       "      <th></th>\n",
       "      <th>acct_id</th>\n",
       "      <th>FICO</th>\n",
       "      <th>bins</th>\n",
       "      <th>region</th>\n",
       "    </tr>\n",
       "  </thead>\n",
       "  <tbody>\n",
       "    <tr>\n",
       "      <th>0</th>\n",
       "      <td>1</td>\n",
       "      <td>768.0</td>\n",
       "      <td>(742.5, 850.0]</td>\n",
       "      <td>New York</td>\n",
       "    </tr>\n",
       "    <tr>\n",
       "      <th>1</th>\n",
       "      <td>2</td>\n",
       "      <td>850.0</td>\n",
       "      <td>(742.5, 850.0]</td>\n",
       "      <td>Dallas</td>\n",
       "    </tr>\n",
       "    <tr>\n",
       "      <th>2</th>\n",
       "      <td>3</td>\n",
       "      <td>677.0</td>\n",
       "      <td>(635.0, 742.5]</td>\n",
       "      <td>Los Angeles</td>\n",
       "    </tr>\n",
       "    <tr>\n",
       "      <th>3</th>\n",
       "      <td>4</td>\n",
       "      <td>843.0</td>\n",
       "      <td>(742.5, 850.0]</td>\n",
       "      <td>Chicago</td>\n",
       "    </tr>\n",
       "    <tr>\n",
       "      <th>4</th>\n",
       "      <td>5</td>\n",
       "      <td>796.0</td>\n",
       "      <td>(742.5, 850.0]</td>\n",
       "      <td>Philadelphia</td>\n",
       "    </tr>\n",
       "    <tr>\n",
       "      <th>...</th>\n",
       "      <td>...</td>\n",
       "      <td>...</td>\n",
       "      <td>...</td>\n",
       "      <td>...</td>\n",
       "    </tr>\n",
       "    <tr>\n",
       "      <th>70564</th>\n",
       "      <td>99986</td>\n",
       "      <td>836.0</td>\n",
       "      <td>(742.5, 850.0]</td>\n",
       "      <td>Phoenix</td>\n",
       "    </tr>\n",
       "    <tr>\n",
       "      <th>70565</th>\n",
       "      <td>99987</td>\n",
       "      <td>850.0</td>\n",
       "      <td>(742.5, 850.0]</td>\n",
       "      <td>Los Angeles</td>\n",
       "    </tr>\n",
       "    <tr>\n",
       "      <th>70566</th>\n",
       "      <td>99989</td>\n",
       "      <td>850.0</td>\n",
       "      <td>(742.5, 850.0]</td>\n",
       "      <td>Los Angeles</td>\n",
       "    </tr>\n",
       "    <tr>\n",
       "      <th>70567</th>\n",
       "      <td>99990</td>\n",
       "      <td>830.0</td>\n",
       "      <td>(742.5, 850.0]</td>\n",
       "      <td>Chicago</td>\n",
       "    </tr>\n",
       "    <tr>\n",
       "      <th>70568</th>\n",
       "      <td>99992</td>\n",
       "      <td>850.0</td>\n",
       "      <td>(742.5, 850.0]</td>\n",
       "      <td>Los Angeles</td>\n",
       "    </tr>\n",
       "  </tbody>\n",
       "</table>\n",
       "<p>70569 rows × 4 columns</p>\n",
       "</div>"
      ],
      "text/plain": [
       "       acct_id   FICO            bins        region\n",
       "0            1  768.0  (742.5, 850.0]      New York\n",
       "1            2  850.0  (742.5, 850.0]        Dallas\n",
       "2            3  677.0  (635.0, 742.5]   Los Angeles\n",
       "3            4  843.0  (742.5, 850.0]       Chicago\n",
       "4            5  796.0  (742.5, 850.0]  Philadelphia\n",
       "...        ...    ...             ...           ...\n",
       "70564    99986  836.0  (742.5, 850.0]       Phoenix\n",
       "70565    99987  850.0  (742.5, 850.0]   Los Angeles\n",
       "70566    99989  850.0  (742.5, 850.0]   Los Angeles\n",
       "70567    99990  830.0  (742.5, 850.0]       Chicago\n",
       "70568    99992  850.0  (742.5, 850.0]   Los Angeles\n",
       "\n",
       "[70569 rows x 4 columns]"
      ]
     },
     "execution_count": 40,
     "metadata": {},
     "output_type": "execute_result"
    }
   ],
   "source": [
    "pd3 = pd.merge(left=df,right=df1,how='inner')\n",
    "pd3"
   ]
  },
  {
   "cell_type": "code",
   "execution_count": 38,
   "id": "efa215e1",
   "metadata": {},
   "outputs": [
    {
     "data": {
      "text/plain": [
       "7606     420.0\n",
       "85879    433.0\n",
       "Name: FICO, dtype: float64"
      ]
     },
     "execution_count": 38,
     "metadata": {},
     "output_type": "execute_result"
    }
   ],
   "source": [
    "df['FICO'].nsmallest(2)"
   ]
  },
  {
   "cell_type": "code",
   "execution_count": 44,
   "id": "bc129247",
   "metadata": {},
   "outputs": [
    {
     "data": {
      "text/html": [
       "<div>\n",
       "<style scoped>\n",
       "    .dataframe tbody tr th:only-of-type {\n",
       "        vertical-align: middle;\n",
       "    }\n",
       "\n",
       "    .dataframe tbody tr th {\n",
       "        vertical-align: top;\n",
       "    }\n",
       "\n",
       "    .dataframe thead th {\n",
       "        text-align: right;\n",
       "    }\n",
       "</style>\n",
       "<table border=\"1\" class=\"dataframe\">\n",
       "  <thead>\n",
       "    <tr style=\"text-align: right;\">\n",
       "      <th></th>\n",
       "      <th>acct_id</th>\n",
       "      <th>FICO</th>\n",
       "      <th>bins</th>\n",
       "      <th>region</th>\n",
       "    </tr>\n",
       "  </thead>\n",
       "  <tbody>\n",
       "    <tr>\n",
       "      <th>4238</th>\n",
       "      <td>7602</td>\n",
       "      <td>420.0</td>\n",
       "      <td>(419.999, 527.5]</td>\n",
       "      <td>Houston</td>\n",
       "    </tr>\n",
       "    <tr>\n",
       "      <th>61379</th>\n",
       "      <td>85867</td>\n",
       "      <td>433.0</td>\n",
       "      <td>(419.999, 527.5]</td>\n",
       "      <td>San Antonio</td>\n",
       "    </tr>\n",
       "  </tbody>\n",
       "</table>\n",
       "</div>"
      ],
      "text/plain": [
       "       acct_id   FICO              bins       region\n",
       "4238      7602  420.0  (419.999, 527.5]      Houston\n",
       "61379    85867  433.0  (419.999, 527.5]  San Antonio"
      ]
     },
     "execution_count": 44,
     "metadata": {},
     "output_type": "execute_result"
    }
   ],
   "source": [
    "pd3[(pd3[\"FICO\"] == 420.0) | (pd3[\"FICO\"] == 433.0)]"
   ]
  },
  {
   "cell_type": "code",
   "execution_count": null,
   "id": "a31d11f1",
   "metadata": {},
   "outputs": [],
   "source": [
    "# PART A DONE"
   ]
  }
 ],
 "metadata": {
  "kernelspec": {
   "display_name": "Python 3",
   "language": "python",
   "name": "python3"
  },
  "language_info": {
   "codemirror_mode": {
    "name": "ipython",
    "version": 3
   },
   "file_extension": ".py",
   "mimetype": "text/x-python",
   "name": "python",
   "nbconvert_exporter": "python",
   "pygments_lexer": "ipython3",
   "version": "3.8.8"
  }
 },
 "nbformat": 4,
 "nbformat_minor": 5
}
